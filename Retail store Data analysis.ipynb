{
 "cells": [
  {
   "cell_type": "markdown",
   "id": "2025c62c-c921-4aa0-8c6f-6f6edcecfe71",
   "metadata": {},
   "source": [
    "### importing libraries"
   ]
  },
  {
   "cell_type": "code",
   "execution_count": 1,
   "id": "115e7190-745b-4a9d-ac57-4bb9424564b9",
   "metadata": {},
   "outputs": [],
   "source": [
    "import pandas as pd\n",
    "import numpy as np\n",
    "import seaborn as sns\n",
    "import matplotlib.pyplot as plt"
   ]
  },
  {
   "cell_type": "markdown",
   "id": "d74f007d-1fbf-4702-a0fe-87e262901742",
   "metadata": {},
   "source": [
    "### Dataset"
   ]
  },
  {
   "cell_type": "code",
   "execution_count": 2,
   "id": "c9957a27-4f5f-48f7-8fa1-7cd6434f835e",
   "metadata": {},
   "outputs": [],
   "source": [
    "df=pd.read_csv(\"SampleSuperstore.csv\")"
   ]
  },
  {
   "cell_type": "markdown",
   "id": "99969587-1163-4456-8842-ef8e88c0e63b",
   "metadata": {},
   "source": [
    "### Data Exploration:"
   ]
  },
  {
   "cell_type": "markdown",
   "id": "b76c513a-ccae-464a-bc06-96cfe4a89564",
   "metadata": {},
   "source": [
    "### Dimensions of data"
   ]
  },
  {
   "cell_type": "code",
   "execution_count": 3,
   "id": "dc9be649-eb45-4ce1-ab42-21ab393a8c36",
   "metadata": {},
   "outputs": [
    {
     "data": {
      "text/plain": [
       "(9994, 13)"
      ]
     },
     "execution_count": 3,
     "metadata": {},
     "output_type": "execute_result"
    }
   ],
   "source": [
    "df.shape"
   ]
  },
  {
   "cell_type": "markdown",
   "id": "278f444f-5658-4c63-be21-1c699603fa61",
   "metadata": {},
   "source": [
    "### peek at the data"
   ]
  },
  {
   "cell_type": "code",
   "execution_count": 4,
   "id": "0fd6e887-f118-4b88-a800-3bd8cf276f3a",
   "metadata": {},
   "outputs": [
    {
     "data": {
      "text/html": [
       "<div>\n",
       "<style scoped>\n",
       "    .dataframe tbody tr th:only-of-type {\n",
       "        vertical-align: middle;\n",
       "    }\n",
       "\n",
       "    .dataframe tbody tr th {\n",
       "        vertical-align: top;\n",
       "    }\n",
       "\n",
       "    .dataframe thead th {\n",
       "        text-align: right;\n",
       "    }\n",
       "</style>\n",
       "<table border=\"1\" class=\"dataframe\">\n",
       "  <thead>\n",
       "    <tr style=\"text-align: right;\">\n",
       "      <th></th>\n",
       "      <th>Ship Mode</th>\n",
       "      <th>Segment</th>\n",
       "      <th>Country</th>\n",
       "      <th>City</th>\n",
       "      <th>State</th>\n",
       "      <th>Postal Code</th>\n",
       "      <th>Region</th>\n",
       "      <th>Category</th>\n",
       "      <th>Sub-Category</th>\n",
       "      <th>Sales</th>\n",
       "      <th>Quantity</th>\n",
       "      <th>Discount</th>\n",
       "      <th>Profit</th>\n",
       "    </tr>\n",
       "  </thead>\n",
       "  <tbody>\n",
       "    <tr>\n",
       "      <th>0</th>\n",
       "      <td>Second Class</td>\n",
       "      <td>Consumer</td>\n",
       "      <td>United States</td>\n",
       "      <td>Henderson</td>\n",
       "      <td>Kentucky</td>\n",
       "      <td>42420</td>\n",
       "      <td>South</td>\n",
       "      <td>Furniture</td>\n",
       "      <td>Bookcases</td>\n",
       "      <td>261.9600</td>\n",
       "      <td>2</td>\n",
       "      <td>0.00</td>\n",
       "      <td>41.9136</td>\n",
       "    </tr>\n",
       "    <tr>\n",
       "      <th>1</th>\n",
       "      <td>Second Class</td>\n",
       "      <td>Consumer</td>\n",
       "      <td>United States</td>\n",
       "      <td>Henderson</td>\n",
       "      <td>Kentucky</td>\n",
       "      <td>42420</td>\n",
       "      <td>South</td>\n",
       "      <td>Furniture</td>\n",
       "      <td>Chairs</td>\n",
       "      <td>731.9400</td>\n",
       "      <td>3</td>\n",
       "      <td>0.00</td>\n",
       "      <td>219.5820</td>\n",
       "    </tr>\n",
       "    <tr>\n",
       "      <th>2</th>\n",
       "      <td>Second Class</td>\n",
       "      <td>Corporate</td>\n",
       "      <td>United States</td>\n",
       "      <td>Los Angeles</td>\n",
       "      <td>California</td>\n",
       "      <td>90036</td>\n",
       "      <td>West</td>\n",
       "      <td>Office Supplies</td>\n",
       "      <td>Labels</td>\n",
       "      <td>14.6200</td>\n",
       "      <td>2</td>\n",
       "      <td>0.00</td>\n",
       "      <td>6.8714</td>\n",
       "    </tr>\n",
       "    <tr>\n",
       "      <th>3</th>\n",
       "      <td>Standard Class</td>\n",
       "      <td>Consumer</td>\n",
       "      <td>United States</td>\n",
       "      <td>Fort Lauderdale</td>\n",
       "      <td>Florida</td>\n",
       "      <td>33311</td>\n",
       "      <td>South</td>\n",
       "      <td>Furniture</td>\n",
       "      <td>Tables</td>\n",
       "      <td>957.5775</td>\n",
       "      <td>5</td>\n",
       "      <td>0.45</td>\n",
       "      <td>-383.0310</td>\n",
       "    </tr>\n",
       "    <tr>\n",
       "      <th>4</th>\n",
       "      <td>Standard Class</td>\n",
       "      <td>Consumer</td>\n",
       "      <td>United States</td>\n",
       "      <td>Fort Lauderdale</td>\n",
       "      <td>Florida</td>\n",
       "      <td>33311</td>\n",
       "      <td>South</td>\n",
       "      <td>Office Supplies</td>\n",
       "      <td>Storage</td>\n",
       "      <td>22.3680</td>\n",
       "      <td>2</td>\n",
       "      <td>0.20</td>\n",
       "      <td>2.5164</td>\n",
       "    </tr>\n",
       "  </tbody>\n",
       "</table>\n",
       "</div>"
      ],
      "text/plain": [
       "        Ship Mode    Segment        Country             City       State  \\\n",
       "0    Second Class   Consumer  United States        Henderson    Kentucky   \n",
       "1    Second Class   Consumer  United States        Henderson    Kentucky   \n",
       "2    Second Class  Corporate  United States      Los Angeles  California   \n",
       "3  Standard Class   Consumer  United States  Fort Lauderdale     Florida   \n",
       "4  Standard Class   Consumer  United States  Fort Lauderdale     Florida   \n",
       "\n",
       "   Postal Code Region         Category Sub-Category     Sales  Quantity  \\\n",
       "0        42420  South        Furniture    Bookcases  261.9600         2   \n",
       "1        42420  South        Furniture       Chairs  731.9400         3   \n",
       "2        90036   West  Office Supplies       Labels   14.6200         2   \n",
       "3        33311  South        Furniture       Tables  957.5775         5   \n",
       "4        33311  South  Office Supplies      Storage   22.3680         2   \n",
       "\n",
       "   Discount    Profit  \n",
       "0      0.00   41.9136  \n",
       "1      0.00  219.5820  \n",
       "2      0.00    6.8714  \n",
       "3      0.45 -383.0310  \n",
       "4      0.20    2.5164  "
      ]
     },
     "execution_count": 4,
     "metadata": {},
     "output_type": "execute_result"
    }
   ],
   "source": [
    "df.head(5)"
   ]
  },
  {
   "cell_type": "code",
   "execution_count": 5,
   "id": "20548556-9093-4869-9c39-6d36503dc09d",
   "metadata": {},
   "outputs": [
    {
     "data": {
      "text/html": [
       "<div>\n",
       "<style scoped>\n",
       "    .dataframe tbody tr th:only-of-type {\n",
       "        vertical-align: middle;\n",
       "    }\n",
       "\n",
       "    .dataframe tbody tr th {\n",
       "        vertical-align: top;\n",
       "    }\n",
       "\n",
       "    .dataframe thead th {\n",
       "        text-align: right;\n",
       "    }\n",
       "</style>\n",
       "<table border=\"1\" class=\"dataframe\">\n",
       "  <thead>\n",
       "    <tr style=\"text-align: right;\">\n",
       "      <th></th>\n",
       "      <th>Ship Mode</th>\n",
       "      <th>Segment</th>\n",
       "      <th>Country</th>\n",
       "      <th>City</th>\n",
       "      <th>State</th>\n",
       "      <th>Postal Code</th>\n",
       "      <th>Region</th>\n",
       "      <th>Category</th>\n",
       "      <th>Sub-Category</th>\n",
       "      <th>Sales</th>\n",
       "      <th>Quantity</th>\n",
       "      <th>Discount</th>\n",
       "      <th>Profit</th>\n",
       "    </tr>\n",
       "  </thead>\n",
       "  <tbody>\n",
       "    <tr>\n",
       "      <th>9989</th>\n",
       "      <td>Second Class</td>\n",
       "      <td>Consumer</td>\n",
       "      <td>United States</td>\n",
       "      <td>Miami</td>\n",
       "      <td>Florida</td>\n",
       "      <td>33180</td>\n",
       "      <td>South</td>\n",
       "      <td>Furniture</td>\n",
       "      <td>Furnishings</td>\n",
       "      <td>25.248</td>\n",
       "      <td>3</td>\n",
       "      <td>0.2</td>\n",
       "      <td>4.1028</td>\n",
       "    </tr>\n",
       "    <tr>\n",
       "      <th>9990</th>\n",
       "      <td>Standard Class</td>\n",
       "      <td>Consumer</td>\n",
       "      <td>United States</td>\n",
       "      <td>Costa Mesa</td>\n",
       "      <td>California</td>\n",
       "      <td>92627</td>\n",
       "      <td>West</td>\n",
       "      <td>Furniture</td>\n",
       "      <td>Furnishings</td>\n",
       "      <td>91.960</td>\n",
       "      <td>2</td>\n",
       "      <td>0.0</td>\n",
       "      <td>15.6332</td>\n",
       "    </tr>\n",
       "    <tr>\n",
       "      <th>9991</th>\n",
       "      <td>Standard Class</td>\n",
       "      <td>Consumer</td>\n",
       "      <td>United States</td>\n",
       "      <td>Costa Mesa</td>\n",
       "      <td>California</td>\n",
       "      <td>92627</td>\n",
       "      <td>West</td>\n",
       "      <td>Technology</td>\n",
       "      <td>Phones</td>\n",
       "      <td>258.576</td>\n",
       "      <td>2</td>\n",
       "      <td>0.2</td>\n",
       "      <td>19.3932</td>\n",
       "    </tr>\n",
       "    <tr>\n",
       "      <th>9992</th>\n",
       "      <td>Standard Class</td>\n",
       "      <td>Consumer</td>\n",
       "      <td>United States</td>\n",
       "      <td>Costa Mesa</td>\n",
       "      <td>California</td>\n",
       "      <td>92627</td>\n",
       "      <td>West</td>\n",
       "      <td>Office Supplies</td>\n",
       "      <td>Paper</td>\n",
       "      <td>29.600</td>\n",
       "      <td>4</td>\n",
       "      <td>0.0</td>\n",
       "      <td>13.3200</td>\n",
       "    </tr>\n",
       "    <tr>\n",
       "      <th>9993</th>\n",
       "      <td>Second Class</td>\n",
       "      <td>Consumer</td>\n",
       "      <td>United States</td>\n",
       "      <td>Westminster</td>\n",
       "      <td>California</td>\n",
       "      <td>92683</td>\n",
       "      <td>West</td>\n",
       "      <td>Office Supplies</td>\n",
       "      <td>Appliances</td>\n",
       "      <td>243.160</td>\n",
       "      <td>2</td>\n",
       "      <td>0.0</td>\n",
       "      <td>72.9480</td>\n",
       "    </tr>\n",
       "  </tbody>\n",
       "</table>\n",
       "</div>"
      ],
      "text/plain": [
       "           Ship Mode   Segment        Country         City       State  \\\n",
       "9989    Second Class  Consumer  United States        Miami     Florida   \n",
       "9990  Standard Class  Consumer  United States   Costa Mesa  California   \n",
       "9991  Standard Class  Consumer  United States   Costa Mesa  California   \n",
       "9992  Standard Class  Consumer  United States   Costa Mesa  California   \n",
       "9993    Second Class  Consumer  United States  Westminster  California   \n",
       "\n",
       "      Postal Code Region         Category Sub-Category    Sales  Quantity  \\\n",
       "9989        33180  South        Furniture  Furnishings   25.248         3   \n",
       "9990        92627   West        Furniture  Furnishings   91.960         2   \n",
       "9991        92627   West       Technology       Phones  258.576         2   \n",
       "9992        92627   West  Office Supplies        Paper   29.600         4   \n",
       "9993        92683   West  Office Supplies   Appliances  243.160         2   \n",
       "\n",
       "      Discount   Profit  \n",
       "9989       0.2   4.1028  \n",
       "9990       0.0  15.6332  \n",
       "9991       0.2  19.3932  \n",
       "9992       0.0  13.3200  \n",
       "9993       0.0  72.9480  "
      ]
     },
     "execution_count": 5,
     "metadata": {},
     "output_type": "execute_result"
    }
   ],
   "source": [
    "df.tail(5)"
   ]
  },
  {
   "cell_type": "code",
   "execution_count": 6,
   "id": "a933c71d-cd74-45bf-98a9-9cdbdd7e2602",
   "metadata": {},
   "outputs": [
    {
     "name": "stdout",
     "output_type": "stream",
     "text": [
      "<class 'pandas.core.frame.DataFrame'>\n",
      "RangeIndex: 9994 entries, 0 to 9993\n",
      "Data columns (total 13 columns):\n",
      " #   Column        Non-Null Count  Dtype  \n",
      "---  ------        --------------  -----  \n",
      " 0   Ship Mode     9994 non-null   object \n",
      " 1   Segment       9994 non-null   object \n",
      " 2   Country       9994 non-null   object \n",
      " 3   City          9994 non-null   object \n",
      " 4   State         9994 non-null   object \n",
      " 5   Postal Code   9994 non-null   int64  \n",
      " 6   Region        9994 non-null   object \n",
      " 7   Category      9994 non-null   object \n",
      " 8   Sub-Category  9994 non-null   object \n",
      " 9   Sales         9994 non-null   float64\n",
      " 10  Quantity      9994 non-null   int64  \n",
      " 11  Discount      9994 non-null   float64\n",
      " 12  Profit        9994 non-null   float64\n",
      "dtypes: float64(3), int64(2), object(8)\n",
      "memory usage: 1015.1+ KB\n"
     ]
    }
   ],
   "source": [
    "# general overview of data\n",
    "df.info()"
   ]
  },
  {
   "cell_type": "code",
   "execution_count": 7,
   "id": "fb26b832-b536-4552-98c9-6535dfbd19ce",
   "metadata": {},
   "outputs": [
    {
     "data": {
      "text/html": [
       "<div>\n",
       "<style scoped>\n",
       "    .dataframe tbody tr th:only-of-type {\n",
       "        vertical-align: middle;\n",
       "    }\n",
       "\n",
       "    .dataframe tbody tr th {\n",
       "        vertical-align: top;\n",
       "    }\n",
       "\n",
       "    .dataframe thead th {\n",
       "        text-align: right;\n",
       "    }\n",
       "</style>\n",
       "<table border=\"1\" class=\"dataframe\">\n",
       "  <thead>\n",
       "    <tr style=\"text-align: right;\">\n",
       "      <th></th>\n",
       "      <th>Postal Code</th>\n",
       "      <th>Sales</th>\n",
       "      <th>Quantity</th>\n",
       "      <th>Discount</th>\n",
       "      <th>Profit</th>\n",
       "    </tr>\n",
       "  </thead>\n",
       "  <tbody>\n",
       "    <tr>\n",
       "      <th>count</th>\n",
       "      <td>9994.000000</td>\n",
       "      <td>9994.000000</td>\n",
       "      <td>9994.000000</td>\n",
       "      <td>9994.000000</td>\n",
       "      <td>9994.000000</td>\n",
       "    </tr>\n",
       "    <tr>\n",
       "      <th>mean</th>\n",
       "      <td>55190.379428</td>\n",
       "      <td>229.858001</td>\n",
       "      <td>3.789574</td>\n",
       "      <td>0.156203</td>\n",
       "      <td>28.656896</td>\n",
       "    </tr>\n",
       "    <tr>\n",
       "      <th>std</th>\n",
       "      <td>32063.693350</td>\n",
       "      <td>623.245101</td>\n",
       "      <td>2.225110</td>\n",
       "      <td>0.206452</td>\n",
       "      <td>234.260108</td>\n",
       "    </tr>\n",
       "    <tr>\n",
       "      <th>min</th>\n",
       "      <td>1040.000000</td>\n",
       "      <td>0.444000</td>\n",
       "      <td>1.000000</td>\n",
       "      <td>0.000000</td>\n",
       "      <td>-6599.978000</td>\n",
       "    </tr>\n",
       "    <tr>\n",
       "      <th>25%</th>\n",
       "      <td>23223.000000</td>\n",
       "      <td>17.280000</td>\n",
       "      <td>2.000000</td>\n",
       "      <td>0.000000</td>\n",
       "      <td>1.728750</td>\n",
       "    </tr>\n",
       "    <tr>\n",
       "      <th>50%</th>\n",
       "      <td>56430.500000</td>\n",
       "      <td>54.490000</td>\n",
       "      <td>3.000000</td>\n",
       "      <td>0.200000</td>\n",
       "      <td>8.666500</td>\n",
       "    </tr>\n",
       "    <tr>\n",
       "      <th>75%</th>\n",
       "      <td>90008.000000</td>\n",
       "      <td>209.940000</td>\n",
       "      <td>5.000000</td>\n",
       "      <td>0.200000</td>\n",
       "      <td>29.364000</td>\n",
       "    </tr>\n",
       "    <tr>\n",
       "      <th>max</th>\n",
       "      <td>99301.000000</td>\n",
       "      <td>22638.480000</td>\n",
       "      <td>14.000000</td>\n",
       "      <td>0.800000</td>\n",
       "      <td>8399.976000</td>\n",
       "    </tr>\n",
       "  </tbody>\n",
       "</table>\n",
       "</div>"
      ],
      "text/plain": [
       "        Postal Code         Sales     Quantity     Discount       Profit\n",
       "count   9994.000000   9994.000000  9994.000000  9994.000000  9994.000000\n",
       "mean   55190.379428    229.858001     3.789574     0.156203    28.656896\n",
       "std    32063.693350    623.245101     2.225110     0.206452   234.260108\n",
       "min     1040.000000      0.444000     1.000000     0.000000 -6599.978000\n",
       "25%    23223.000000     17.280000     2.000000     0.000000     1.728750\n",
       "50%    56430.500000     54.490000     3.000000     0.200000     8.666500\n",
       "75%    90008.000000    209.940000     5.000000     0.200000    29.364000\n",
       "max    99301.000000  22638.480000    14.000000     0.800000  8399.976000"
      ]
     },
     "execution_count": 7,
     "metadata": {},
     "output_type": "execute_result"
    }
   ],
   "source": [
    "df.describe()"
   ]
  },
  {
   "cell_type": "markdown",
   "id": "7d4b0b8a-1d3c-43ca-b92d-f363c261a219",
   "metadata": {},
   "source": [
    "### checking for missing values,"
   ]
  },
  {
   "cell_type": "code",
   "execution_count": 8,
   "id": "679b4283-b76e-40d7-b817-950df4813c49",
   "metadata": {},
   "outputs": [
    {
     "data": {
      "text/plain": [
       "Ship Mode       0\n",
       "Segment         0\n",
       "Country         0\n",
       "City            0\n",
       "State           0\n",
       "Postal Code     0\n",
       "Region          0\n",
       "Category        0\n",
       "Sub-Category    0\n",
       "Sales           0\n",
       "Quantity        0\n",
       "Discount        0\n",
       "Profit          0\n",
       "dtype: int64"
      ]
     },
     "execution_count": 8,
     "metadata": {},
     "output_type": "execute_result"
    }
   ],
   "source": [
    "df.isnull().sum()"
   ]
  },
  {
   "cell_type": "markdown",
   "id": "380ed880-1833-4531-9c7a-ea7ecdc74698",
   "metadata": {},
   "source": [
    "### Missing values are not present in dataset"
   ]
  },
  {
   "cell_type": "code",
   "execution_count": 9,
   "id": "4d613a29-14b0-4f88-b588-6556e999cd00",
   "metadata": {},
   "outputs": [
    {
     "data": {
      "text/plain": [
       "Ship Mode        object\n",
       "Segment          object\n",
       "Country          object\n",
       "City             object\n",
       "State            object\n",
       "Postal Code       int64\n",
       "Region           object\n",
       "Category         object\n",
       "Sub-Category     object\n",
       "Sales           float64\n",
       "Quantity          int64\n",
       "Discount        float64\n",
       "Profit          float64\n",
       "dtype: object"
      ]
     },
     "execution_count": 9,
     "metadata": {},
     "output_type": "execute_result"
    }
   ],
   "source": [
    "df.dtypes"
   ]
  },
  {
   "cell_type": "markdown",
   "id": "27c5ce79-748a-4fd5-a9fd-149fd946639e",
   "metadata": {},
   "source": [
    "### Data Cleaning"
   ]
  },
  {
   "cell_type": "code",
   "execution_count": 10,
   "id": "d2a9509b-4f08-41e6-a13c-870e4f4b4a14",
   "metadata": {},
   "outputs": [
    {
     "data": {
      "text/plain": [
       "0       False\n",
       "1       False\n",
       "2       False\n",
       "3       False\n",
       "4       False\n",
       "        ...  \n",
       "9989    False\n",
       "9990    False\n",
       "9991    False\n",
       "9992    False\n",
       "9993    False\n",
       "Length: 9994, dtype: bool"
      ]
     },
     "execution_count": 10,
     "metadata": {},
     "output_type": "execute_result"
    }
   ],
   "source": [
    "df.duplicated()"
   ]
  },
  {
   "cell_type": "markdown",
   "id": "4a32bbb2-7282-424e-8aa7-142406e106cf",
   "metadata": {},
   "source": [
    "### Descriptive stastics "
   ]
  },
  {
   "cell_type": "code",
   "execution_count": 11,
   "id": "ca872791-9d0d-4a2c-be9e-f08f6e91e125",
   "metadata": {},
   "outputs": [],
   "source": [
    "#Total sales\n",
    "total_sales=df['Sales'].sum()"
   ]
  },
  {
   "cell_type": "code",
   "execution_count": 12,
   "id": "48c4c414-678d-40e6-a686-dd676baf6109",
   "metadata": {},
   "outputs": [
    {
     "data": {
      "text/plain": [
       "2297200.8603000003"
      ]
     },
     "execution_count": 12,
     "metadata": {},
     "output_type": "execute_result"
    }
   ],
   "source": [
    "total_sales"
   ]
  },
  {
   "cell_type": "code",
   "execution_count": 13,
   "id": "a61f6233-0ce3-4155-896e-d2d95b72dd3e",
   "metadata": {},
   "outputs": [],
   "source": [
    "# Average order value\n",
    "average_order_value = df['Sales'].mean()"
   ]
  },
  {
   "cell_type": "code",
   "execution_count": 14,
   "id": "d9b7bc61-d13e-4b20-baec-67671b91a04b",
   "metadata": {},
   "outputs": [
    {
     "data": {
      "text/plain": [
       "229.85800083049833"
      ]
     },
     "execution_count": 14,
     "metadata": {},
     "output_type": "execute_result"
    }
   ],
   "source": [
    "average_order_value"
   ]
  },
  {
   "cell_type": "code",
   "execution_count": 15,
   "id": "3f21e78e-2dcf-4a84-863f-fdd5bf5abe61",
   "metadata": {},
   "outputs": [],
   "source": [
    "median_sales = df['Sales'].median()"
   ]
  },
  {
   "cell_type": "code",
   "execution_count": 16,
   "id": "d5f7b9ee-1b2b-4b6d-afe8-939a98e59555",
   "metadata": {},
   "outputs": [
    {
     "data": {
      "text/plain": [
       "54.489999999999995"
      ]
     },
     "execution_count": 16,
     "metadata": {},
     "output_type": "execute_result"
    }
   ],
   "source": [
    "median_sales"
   ]
  },
  {
   "cell_type": "code",
   "execution_count": 17,
   "id": "5fde4874-c998-4b8f-8485-88186afff297",
   "metadata": {},
   "outputs": [],
   "source": [
    "std_dev_sales = df['Sales'].std()"
   ]
  },
  {
   "cell_type": "code",
   "execution_count": 18,
   "id": "291123c6-c45f-444b-9140-536856e84f2f",
   "metadata": {},
   "outputs": [
    {
     "data": {
      "text/plain": [
       "623.2451005086807"
      ]
     },
     "execution_count": 18,
     "metadata": {},
     "output_type": "execute_result"
    }
   ],
   "source": [
    "std_dev_sales"
   ]
  },
  {
   "cell_type": "markdown",
   "id": "519eea91-d04d-4e97-b371-ab473b5a62c7",
   "metadata": {},
   "source": [
    "### lets visualize distribution of sales"
   ]
  },
  {
   "cell_type": "code",
   "execution_count": 19,
   "id": "606cd3ce-3c49-42c2-9dcd-4a24e222563f",
   "metadata": {},
   "outputs": [
    {
     "data": {
      "image/png": "[encoded data removed]",
      "text/plain": [
       "<Figure size 720x432 with 1 Axes>"
      ]
     },
     "metadata": {
      "needs_background": "light"
     },
     "output_type": "display_data"
    }
   ],
   "source": [
    "# visualize  Distribution of sales by boxplot\n",
    "plt.figure(figsize=(10, 6))\n",
    "sns.boxplot(x=df['Sales'], color='skyblue')\n",
    "plt.title('Distribution of Sales')\n",
    "plt.xlabel('Sales')\n",
    "plt.show()\n"
   ]
  },
  {
   "cell_type": "code",
   "execution_count": 20,
   "id": "590f3772-0553-4cc7-808d-5e488abbb82a",
   "metadata": {},
   "outputs": [
    {
     "data": {
      "image/png": "[encoded data removed]",
      "text/plain": [
       "<Figure size 720x432 with 1 Axes>"
      ]
     },
     "metadata": {
      "needs_background": "light"
     },
     "output_type": "display_data"
    }
   ],
   "source": [
    "# visualize  Distribution of sales by histplot\n",
    "plt.figure(figsize=(10, 6))\n",
    "sns.histplot(df['Sales'], bins=20, kde=True, color='skyblue')\n",
    "plt.title('Distribution of Sales')\n",
    "plt.xlabel('Sales')\n",
    "plt.ylabel('Frequency')\n",
    "plt.show()"
   ]
  },
  {
   "cell_type": "code",
   "execution_count": 21,
   "id": "bc806aa6-75bc-4652-8ebe-d06df0573375",
   "metadata": {},
   "outputs": [
    {
     "data": {
      "image/png": "[encoded data removed]",
      "text/plain": [
       "<Figure size 720x432 with 1 Axes>"
      ]
     },
     "metadata": {
      "needs_background": "light"
     },
     "output_type": "display_data"
    }
   ],
   "source": [
    "# Trend of Sales \n",
    "plt.figure(figsize=(10, 6))\n",
    "sns.lineplot(data=df['Sales'], color='skyblue')\n",
    "plt.title('Trend of Sales')\n",
    "plt.xlabel('Index')\n",
    "plt.ylabel('Sales')\n",
    "plt.show()"
   ]
  },
  {
   "cell_type": "markdown",
   "id": "79392d0c-75f5-4183-89e7-924dad650cc7",
   "metadata": {},
   "source": [
    "### visualize order quantity "
   ]
  },
  {
   "cell_type": "code",
   "execution_count": 22,
   "id": "d1495019-793e-4bc2-831d-40d948ae2c70",
   "metadata": {},
   "outputs": [
    {
     "data": {
      "image/png": "[encoded data removed]",
      "text/plain": [
       "<Figure size 720x432 with 1 Axes>"
      ]
     },
     "metadata": {
      "needs_background": "light"
     },
     "output_type": "display_data"
    }
   ],
   "source": [
    "# lets visualize the order quantity\n",
    "plt.figure(figsize=(10, 6))\n",
    "sns.histplot(df['Quantity'], bins=20, kde=True, color='salmon')\n",
    "plt.title('Distribution of Order Quantity')\n",
    "plt.xlabel('Order Quantity')\n",
    "plt.ylabel('Frequency')\n",
    "plt.show()"
   ]
  },
  {
   "cell_type": "markdown",
   "id": "d9465c14-5f6e-495a-9326-dd2bd6527d88",
   "metadata": {},
   "source": [
    "### visualize profit"
   ]
  },
  {
   "cell_type": "code",
   "execution_count": 23,
   "id": "70586263-76c3-415b-bb1c-d630fef9e837",
   "metadata": {},
   "outputs": [
    {
     "data": {
      "image/png": "[encoded data removed]",
      "text/plain": [
       "<Figure size 720x432 with 1 Axes>"
      ]
     },
     "metadata": {
      "needs_background": "light"
     },
     "output_type": "display_data"
    }
   ],
   "source": [
    "# lets visualize the profit\n",
    "plt.figure(figsize=(10, 6))\n",
    "sns.histplot(df['Profit'], kde=True, bins=20, color='lightgreen')\n",
    "plt.title('Distribution of Profit')\n",
    "plt.xlabel('Profit')\n",
    "plt.ylabel('Frequency')\n",
    "plt.show()"
   ]
  },
  {
   "cell_type": "code",
   "execution_count": 24,
   "id": "563055a8-5aee-470a-ba71-1cf56a3047b8",
   "metadata": {},
   "outputs": [
    {
     "data": {
      "image/png": "[encoded data removed]",
      "text/plain": [
       "<Figure size 720x432 with 1 Axes>"
      ]
     },
     "metadata": {
      "needs_background": "light"
     },
     "output_type": "display_data"
    }
   ],
   "source": [
    "plt.figure(figsize=(10, 6))\n",
    "sns.boxplot(x=df['Profit'], color='lightgreen')\n",
    "plt.title('Distribution of Profit')\n",
    "plt.xlabel('Profit')\n",
    "plt.show()"
   ]
  },
  {
   "cell_type": "markdown",
   "id": "04d36a85-e19d-47d9-9fdb-556ae58c5d4f",
   "metadata": {},
   "source": [
    "### Histogram of data"
   ]
  },
  {
   "cell_type": "code",
   "execution_count": 25,
   "id": "9492954b-c2d2-4b10-bcb3-9b9fcf3caf7e",
   "metadata": {},
   "outputs": [
    {
     "data": {
      "image/png": "[encoded data removed]",
      "text/plain": [
       "<Figure size 1440x1080 with 6 Axes>"
      ]
     },
     "metadata": {
      "needs_background": "light"
     },
     "output_type": "display_data"
    }
   ],
   "source": [
    "df.hist(bins=50,figsize=(20,15))\n",
    "plt.show()"
   ]
  },
  {
   "cell_type": "markdown",
   "id": "6dd36614-3f17-4e92-ba6b-af96aaeac116",
   "metadata": {},
   "source": [
    "### the sales and profit"
   ]
  },
  {
   "cell_type": "code",
   "execution_count": 28,
   "id": "ee89bb56-0d7d-4693-bd05-4bdf4db95dd1",
   "metadata": {},
   "outputs": [
    {
     "name": "stderr",
     "output_type": "stream",
     "text": [
      "/tmp/ipykernel_75/3991613971.py:1: FutureWarning: Indexing with multiple keys (implicitly converted to a tuple of keys) will be deprecated, use a list instead.\n",
      "  df.groupby('Sub-Category')['Profit','Sales'].agg(['sum']).plot.bar()\n"
     ]
    },
    {
     "data": {
      "image/png": "[encoded data removed]",
      "text/plain": [
       "<Figure size 432x288 with 1 Axes>"
      ]
     },
     "metadata": {
      "needs_background": "light"
     },
     "output_type": "display_data"
    },
    {
     "data": {
      "text/plain": [
       "<Figure size 720x576 with 0 Axes>"
      ]
     },
     "metadata": {},
     "output_type": "display_data"
    }
   ],
   "source": [
    "df.groupby('Sub-Category')['Profit','Sales'].agg(['sum']).plot.bar()\n",
    "plt.title('Total profit and sales per subcategory')\n",
    "plt.figure (figsize=[10,8])\n",
    "plt.show()"
   ]
  },
  {
   "cell_type": "markdown",
   "id": "94990392-6369-466d-9615-80dc0dbbb1d5",
   "metadata": {},
   "source": [
    "## highest profit is earned in copiers while selling price of chairs and phones are extremely high compared to other product.\n",
    "## people dont prefer to buy tables and bookcases from superstore hence these departments are in loss.\n"
   ]
  },
  {
   "cell_type": "code",
   "execution_count": 29,
   "id": "5cc058f7-5653-4daa-a852-559e96d29db2",
   "metadata": {},
   "outputs": [
    {
     "name": "stderr",
     "output_type": "stream",
     "text": [
      "/tmp/ipykernel_75/647084091.py:1: FutureWarning: Indexing with multiple keys (implicitly converted to a tuple of keys) will be deprecated, use a list instead.\n",
      "  df.groupby('Region')['Profit','Sales'].agg(['sum']).plot.bar()\n"
     ]
    },
    {
     "data": {
      "image/png": "[encoded data removed]",
      "text/plain": [
       "<Figure size 432x288 with 1 Axes>"
      ]
     },
     "metadata": {
      "needs_background": "light"
     },
     "output_type": "display_data"
    },
    {
     "data": {
      "text/plain": [
       "<Figure size 720x576 with 0 Axes>"
      ]
     },
     "metadata": {},
     "output_type": "display_data"
    }
   ],
   "source": [
    "df.groupby('Region')['Profit','Sales'].agg(['sum']).plot.bar()\n",
    "plt.title('Total profit and sales per region')\n",
    "plt.figure (figsize=[10,8])\n",
    "plt.show()"
   ]
  },
  {
   "cell_type": "markdown",
   "id": "f00af897-6eef-47c1-acac-0f2a499023fd",
   "metadata": {},
   "source": [
    "### Sales in west and east region is high whereas sales in south is low.\n",
    "### the profit in central region is very less and profit earned in west is highest."
   ]
  },
  {
   "cell_type": "markdown",
   "id": "c27db38e-8f80-4a47-96b4-1301d2755300",
   "metadata": {},
   "source": [
    "### Customer Segmentation:"
   ]
  },
  {
   "cell_type": "code",
   "execution_count": 30,
   "id": "d99ea9f3-9b42-4f69-bf8c-71cf8051cc7a",
   "metadata": {},
   "outputs": [
    {
     "name": "stdout",
     "output_type": "stream",
     "text": [
      "['Consumer' 'Corporate' 'Home Office']\n"
     ]
    }
   ],
   "source": [
    "# types of customers\n",
    "types_of_customers = df[\"Segment\"].unique()\n",
    "print(types_of_customers)"
   ]
  },
  {
   "cell_type": "code",
   "execution_count": 31,
   "id": "bc427c01-5e58-48f4-b726-2765079ad895",
   "metadata": {},
   "outputs": [
    {
     "name": "stdout",
     "output_type": "stream",
     "text": [
      "  Customer Type  Total Customers\n",
      "0      Consumer             5191\n",
      "1     Corporate             3020\n",
      "2   Home Office             1783\n"
     ]
    }
   ],
   "source": [
    "# number of customers in each segment\n",
    "number_of_customers= df[\"Segment\"].value_counts().reset_index()\n",
    "number_of_customers=number_of_customers.rename(columns={'index':'Customer Type','Segment':'Total Customers'})\n",
    "print(number_of_customers)"
   ]
  },
  {
   "cell_type": "code",
   "execution_count": 32,
   "id": "9e9c0b70-2c37-4eb3-96fd-bc51d39bca06",
   "metadata": {},
   "outputs": [
    {
     "data": {
      "image/png": "[encoded data removed]",
      "text/plain": [
       "<Figure size 432x288 with 1 Axes>"
      ]
     },
     "metadata": {},
     "output_type": "display_data"
    }
   ],
   "source": [
    "#ploting pie chart\n",
    "plt.pie(number_of_customers['Total Customers'],labels=number_of_customers['Customer Type'],autopct='%1.1f%%')\n",
    "#set pie chart labels\n",
    "plt.title('Distribution_of_customers')\n",
    "plt.show()"
   ]
  },
  {
   "cell_type": "code",
   "execution_count": 33,
   "id": "9c3bbdd4-c405-4143-8d15-f457348986e4",
   "metadata": {},
   "outputs": [
    {
     "name": "stdout",
     "output_type": "stream",
     "text": [
      "  Customer Type   Total Sales\n",
      "0      Consumer  1.161401e+06\n",
      "1     Corporate  7.061464e+05\n",
      "2   Home Office  4.296531e+05\n"
     ]
    }
   ],
   "source": [
    "# sales per category\n",
    "sales_per_category=df.groupby('Segment')['Sales'].sum().reset_index()\n",
    "sales_per_category=sales_per_category.rename(columns={'Segment':'Customer Type','Sales':'Total Sales'})\n",
    "print(sales_per_category)"
   ]
  },
  {
   "cell_type": "code",
   "execution_count": 34,
   "id": "e7ff525c-0c46-4632-9fb4-5edea32ab293",
   "metadata": {},
   "outputs": [
    {
     "data": {
      "image/png": "[encoded data removed]",
      "text/plain": [
       "<Figure size 432x288 with 1 Axes>"
      ]
     },
     "metadata": {
      "needs_background": "light"
     },
     "output_type": "display_data"
    }
   ],
   "source": [
    "# sales per customer category\n",
    "plt.bar(sales_per_category['Customer Type'],sales_per_category['Total Sales'])\n",
    "#label\n",
    "plt.title('sales per customers category')\n",
    "plt.xlabel('Customer Type')\n",
    "plt.ylabel('Total Sales')\n",
    "plt.show()\n",
    "        "
   ]
  },
  {
   "cell_type": "markdown",
   "id": "ad6f7bc4-b536-48fb-93f4-49c80e1d347c",
   "metadata": {},
   "source": [
    "### The segment of home office is very less and store has to focus more on home office to improve the sales "
   ]
  },
  {
   "cell_type": "code",
   "execution_count": 35,
   "id": "deece4c0-ef78-4b12-8dc1-e033dad053b4",
   "metadata": {},
   "outputs": [
    {
     "name": "stdout",
     "output_type": "stream",
     "text": [
      "['Second Class' 'Standard Class' 'First Class' 'Same Day']\n"
     ]
    }
   ],
   "source": [
    "# sorting unique values in the ship mode column into new series\n",
    "types_of_shiping=df['Ship Mode'].unique()\n",
    "print(types_of_shiping)"
   ]
  },
  {
   "cell_type": "code",
   "execution_count": 36,
   "id": "e304bf85-30d0-4c00-a36b-1ac8cebcd095",
   "metadata": {},
   "outputs": [
    {
     "name": "stdout",
     "output_type": "stream",
     "text": [
      "  Mode of Shipment  Use Frequency\n",
      "0   Standard Class           5968\n",
      "1     Second Class           1945\n",
      "2      First Class           1538\n",
      "3         Same Day            543\n"
     ]
    }
   ],
   "source": [
    "# frequency use of shiping method\n",
    "shiping_mode= df['Ship Mode'].value_counts().reset_index()\n",
    "shiping_mode=shiping_mode.rename(columns={'index':'Mode of Shipment','Ship Mode':'Use Frequency'})\n",
    "print(shiping_mode)"
   ]
  },
  {
   "cell_type": "code",
   "execution_count": 37,
   "id": "89336e7f-4f63-4c7b-9bb6-92c67963f37e",
   "metadata": {},
   "outputs": [
    {
     "name": "stdout",
     "output_type": "stream",
     "text": [
      "          State  Number of customers\n",
      "0    California                 2001\n",
      "1      New York                 1128\n",
      "2         Texas                  985\n",
      "3  Pennsylvania                  587\n",
      "4    Washington                  506\n",
      "5      Illinois                  492\n",
      "6          Ohio                  469\n"
     ]
    }
   ],
   "source": [
    "state=df['State'].value_counts().reset_index()\n",
    "state=state.rename(columns={'index':'State','State':'Number of customers'})\n",
    "print(state.head(7))"
   ]
  },
  {
   "cell_type": "markdown",
   "id": "68db1685-d6b9-4dfe-83b5-73d70dd90de7",
   "metadata": {},
   "source": [
    "## Customer Segmentation by RFM method"
   ]
  },
  {
   "cell_type": "code",
   "execution_count": 38,
   "id": "f6b4ace7-5e79-46b9-a347-e5988df561ff",
   "metadata": {},
   "outputs": [],
   "source": [
    "frequency_df = df.groupby('City').size().reset_index(name='Frequency')"
   ]
  },
  {
   "cell_type": "code",
   "execution_count": 39,
   "id": "6d8a870a-480b-4a56-a5b0-397d7a91b3ac",
   "metadata": {},
   "outputs": [],
   "source": [
    "monetary_df = df.groupby('City')['Sales'].sum().reset_index()\n",
    "monetary_df.rename(columns={'Sales': 'Monetary'}, inplace=True)"
   ]
  },
  {
   "cell_type": "code",
   "execution_count": 40,
   "id": "d7a69129-8168-4f66-bdf6-c318ef3254af",
   "metadata": {},
   "outputs": [],
   "source": [
    "rfm_df = pd.merge(frequency_df, monetary_df, on='City')"
   ]
  },
  {
   "cell_type": "code",
   "execution_count": 41,
   "id": "7aae4714-3b01-4902-b166-26287bd9fc07",
   "metadata": {},
   "outputs": [
    {
     "name": "stdout",
     "output_type": "stream",
     "text": [
      "            City  Frequency  Monetary\n",
      "0       Aberdeen          1    25.500\n",
      "1        Abilene          1     1.392\n",
      "2          Akron         21  2729.986\n",
      "3    Albuquerque         14  2220.160\n",
      "4     Alexandria         16  5519.570\n",
      "..           ...        ...       ...\n",
      "526   Woonsocket          4   195.550\n",
      "527      Yonkers         15  7657.666\n",
      "528         York          5   817.978\n",
      "529      Yucaipa          1    50.800\n",
      "530         Yuma          4   840.865\n",
      "\n",
      "[531 rows x 3 columns]\n"
     ]
    }
   ],
   "source": [
    "print(rfm_df)\n"
   ]
  },
  {
   "cell_type": "code",
   "execution_count": 42,
   "id": "b2a9f61f-1fd8-404e-a80d-5a0d7fbecca0",
   "metadata": {},
   "outputs": [],
   "source": [
    "f_score = rfm_df['Frequency'].quantile(0.75)\n",
    "m_score = rfm_df['Monetary'].quantile(0.75)\n"
   ]
  },
  {
   "cell_type": "code",
   "execution_count": 43,
   "id": "4755fd1c-1b5e-4b35-9aec-5539f5380e8d",
   "metadata": {},
   "outputs": [],
   "source": [
    "def rfm_segment(row):\n",
    "    if row['Frequency'] >= f_score and row['Monetary'] >= m_score:\n",
    "        return 'High Value customer'\n",
    "    elif row['Frequency'] >= f_score:\n",
    "        return 'Frequent customers'\n",
    "    elif row['Monetary'] >= m_score:\n",
    "        return 'Big Spenders'\n",
    "    else:\n",
    "        return 'Other'"
   ]
  },
  {
   "cell_type": "code",
   "execution_count": 44,
   "id": "e20a0f79-251a-490f-bc5f-68c04b382745",
   "metadata": {},
   "outputs": [],
   "source": [
    "rfm_df['RFM_Segment'] = rfm_df.apply(rfm_segment, axis=1)"
   ]
  },
  {
   "cell_type": "code",
   "execution_count": 46,
   "id": "115c1e44-8450-45fa-b7ec-72bd2d3643e0",
   "metadata": {},
   "outputs": [
    {
     "name": "stdout",
     "output_type": "stream",
     "text": [
      "            City  Frequency  Monetary          RFM_Segment\n",
      "0       Aberdeen          1    25.500                Other\n",
      "1        Abilene          1     1.392                Other\n",
      "2          Akron         21  2729.986  High Value customer\n",
      "3    Albuquerque         14  2220.160   Frequent customers\n",
      "4     Alexandria         16  5519.570  High Value customer\n",
      "..           ...        ...       ...                  ...\n",
      "526   Woonsocket          4   195.550                Other\n",
      "527      Yonkers         15  7657.666  High Value customer\n",
      "528         York          5   817.978                Other\n",
      "529      Yucaipa          1    50.800                Other\n",
      "530         Yuma          4   840.865                Other\n",
      "\n",
      "[531 rows x 4 columns]\n"
     ]
    }
   ],
   "source": [
    "print(rfm_df)"
   ]
  },
  {
   "cell_type": "code",
   "execution_count": 47,
   "id": "2163c2ec-b23a-45aa-bce1-13d155d07a99",
   "metadata": {},
   "outputs": [],
   "source": [
    "segment_analysis = rfm_df.groupby('RFM_Segment').agg({\n",
    "    'Frequency': 'mean',\n",
    "    'Monetary': 'mean'\n",
    "}).reset_index()\n"
   ]
  },
  {
   "cell_type": "code",
   "execution_count": 48,
   "id": "343746a8-f4af-40f1-bdfd-496c0abf49af",
   "metadata": {},
   "outputs": [
    {
     "name": "stdout",
     "output_type": "stream",
     "text": [
      "           RFM_Segment  Frequency      Monetary\n",
      "0         Big Spenders   8.153846   3990.861754\n",
      "1   Frequent customers  14.928571   1719.205161\n",
      "2  High Value customer  73.018692  17767.308691\n",
      "3                Other   4.191892    659.996433\n"
     ]
    }
   ],
   "source": [
    "print(segment_analysis)"
   ]
  },
  {
   "cell_type": "code",
   "execution_count": 49,
   "id": "724b68a6-e6fd-4a37-903c-6e8ecc7383c3",
   "metadata": {},
   "outputs": [
    {
     "data": {
      "image/png": "[encoded data removed]",
      "text/plain": [
       "<Figure size 720x432 with 1 Axes>"
      ]
     },
     "metadata": {
      "needs_background": "light"
     },
     "output_type": "display_data"
    }
   ],
   "source": [
    "plt.figure(figsize=(10, 6))\n",
    "sns.boxplot(data=rfm_df, x='RFM_Segment', y='Frequency')\n",
    "plt.title('Frequency Distribution by Segment')\n",
    "plt.xlabel('RFM Segment')\n",
    "plt.ylabel('Frequency')\n",
    "plt.show()"
   ]
  },
  {
   "cell_type": "code",
   "execution_count": 50,
   "id": "5f8c404a-fcd3-4eb8-ad05-0520ba678522",
   "metadata": {},
   "outputs": [
    {
     "data": {
      "image/png": "[encoded data removed]",
      "text/plain": [
       "<Figure size 720x432 with 1 Axes>"
      ]
     },
     "metadata": {
      "needs_background": "light"
     },
     "output_type": "display_data"
    }
   ],
   "source": [
    "plt.figure(figsize=(10, 6))\n",
    "sns.barplot(data=rfm_df, x='RFM_Segment', y='Frequency')\n",
    "plt.title('Mean Frequency by Segment')\n",
    "plt.xlabel('RFM Segment')\n",
    "plt.ylabel('Mean Frequency')\n",
    "plt.show()"
   ]
  },
  {
   "cell_type": "code",
   "execution_count": 51,
   "id": "b0ad1ef9-e544-4d7f-bf83-033ca0a263ec",
   "metadata": {},
   "outputs": [
    {
     "data": {
      "image/png": "[encoded data removed]",
      "text/plain": [
       "<Figure size 720x432 with 1 Axes>"
      ]
     },
     "metadata": {
      "needs_background": "light"
     },
     "output_type": "display_data"
    }
   ],
   "source": [
    "plt.figure(figsize=(10, 6))\n",
    "sns.boxplot(data=rfm_df, x='RFM_Segment', y='Monetary')\n",
    "plt.title('Monetary Distribution by Segment')\n",
    "plt.xlabel('RFM Segment')\n",
    "plt.ylabel('Monetary')\n",
    "plt.show()"
   ]
  },
  {
   "cell_type": "code",
   "execution_count": 53,
   "id": "1d597a6b-66bc-4807-889d-07a67c006867",
   "metadata": {},
   "outputs": [
    {
     "data": {
      "image/png": "[encoded data removed]",
      "text/plain": [
       "<Figure size 720x432 with 1 Axes>"
      ]
     },
     "metadata": {
      "needs_background": "light"
     },
     "output_type": "display_data"
    }
   ],
   "source": [
    "plt.figure(figsize=(10, 6))\n",
    "sns.barplot(data=rfm_df, x='RFM_Segment', y='Monetary')\n",
    "plt.title('Mean Monetary Value by Segment')\n",
    "plt.xlabel('RFM Segment')\n",
    "plt.ylabel('Mean Monetary Value')\n",
    "plt.show()"
   ]
  },
  {
   "cell_type": "markdown",
   "id": "1605a61a-852d-4a54-8679-5914716d0fa4",
   "metadata": {},
   "source": [
    "### Product Analysis"
   ]
  },
  {
   "cell_type": "code",
   "execution_count": 54,
   "id": "fe82ae34-518d-4898-b122-b73b77ff1466",
   "metadata": {},
   "outputs": [
    {
     "name": "stdout",
     "output_type": "stream",
     "text": [
      "          Category  Sub-Category\n",
      "0  Office Supplies             9\n",
      "1        Furniture             4\n",
      "2       Technology             4\n"
     ]
    }
   ],
   "source": [
    "subcategory_count=df.groupby('Category')['Sub-Category'].nunique().reset_index()\n",
    "# sort by ascending order\n",
    "subcategory_count=subcategory_count.sort_values(by='Sub-Category',ascending=False)\n",
    "print(subcategory_count.reset_index(drop=True))"
   ]
  },
  {
   "cell_type": "code",
   "execution_count": 55,
   "id": "65fc6627-beca-4474-948a-bc7758ad2843",
   "metadata": {},
   "outputs": [
    {
     "name": "stdout",
     "output_type": "stream",
     "text": [
      "          Category        Sales\n",
      "0        Furniture  741999.7953\n",
      "1  Office Supplies  719047.0320\n",
      "2       Technology  836154.0330\n"
     ]
    }
   ],
   "source": [
    "# sales per each category\n",
    "category_sales=df.groupby(['Category'])['Sales'].sum().reset_index()\n",
    "print(category_sales)"
   ]
  },
  {
   "cell_type": "code",
   "execution_count": 56,
   "id": "621d4d2c-f55b-44b1-ad77-86e6d86d7b3a",
   "metadata": {},
   "outputs": [],
   "source": [
    "top_selling_categories = df.groupby('Category').agg({'Sales': 'sum'}).reset_index()"
   ]
  },
  {
   "cell_type": "code",
   "execution_count": 57,
   "id": "42869a57-acf9-44ca-8277-14e3aa932ad8",
   "metadata": {},
   "outputs": [],
   "source": [
    "top_selling_categories = top_selling_categories.sort_values(by='Sales', ascending=False)"
   ]
  },
  {
   "cell_type": "code",
   "execution_count": 58,
   "id": "5aef853c-5573-46ba-b932-0f0a3bda252c",
   "metadata": {},
   "outputs": [
    {
     "name": "stdout",
     "output_type": "stream",
     "text": [
      "\n",
      "Top Selling Categories:\n",
      "          Category        Sales\n",
      "2       Technology  836154.0330\n",
      "0        Furniture  741999.7953\n",
      "1  Office Supplies  719047.0320\n"
     ]
    }
   ],
   "source": [
    "print(\"\\nTop Selling Categories:\")\n",
    "print(top_selling_categories.head(5))"
   ]
  },
  {
   "cell_type": "code",
   "execution_count": 59,
   "id": "f52b24a9-aecf-47fb-ab2b-7e800ef39887",
   "metadata": {},
   "outputs": [
    {
     "data": {
      "image/png": "[encoded data removed]",
      "text/plain": [
       "<Figure size 432x288 with 1 Axes>"
      ]
     },
     "metadata": {},
     "output_type": "display_data"
    }
   ],
   "source": [
    "# plotting a pie chart\n",
    "plt.pie(category_sales['Sales'],labels=category_sales['Category'],autopct='%1.1f%%')\n",
    "#set labels\n",
    "plt.title('Top product category based on Sales')\n",
    "plt.show()"
   ]
  },
  {
   "cell_type": "code",
   "execution_count": 60,
   "id": "0099befe-87c3-462d-86a8-9dcfe23e1e13",
   "metadata": {},
   "outputs": [],
   "source": [
    "top_selling_products = df.groupby('Sub-Category').agg({'Sales': 'sum'}).reset_index()"
   ]
  },
  {
   "cell_type": "code",
   "execution_count": 61,
   "id": "b0a4af95-a711-414a-a102-49e708d95a8c",
   "metadata": {},
   "outputs": [],
   "source": [
    "top_selling_products = top_selling_products.sort_values(by='Sales', ascending=False)"
   ]
  },
  {
   "cell_type": "code",
   "execution_count": 63,
   "id": "16a5cad5-4bea-48fc-9452-7fca174b9e2d",
   "metadata": {},
   "outputs": [
    {
     "name": "stdout",
     "output_type": "stream",
     "text": [
      "Top Selling Products:\n",
      "   Sub-Category        Sales\n",
      "13       Phones  330007.0540\n",
      "5        Chairs  328449.1030\n",
      "14      Storage  223843.6080\n",
      "16       Tables  206965.5320\n",
      "3       Binders  203412.7330\n",
      "11     Machines  189238.6310\n",
      "0   Accessories  167380.3180\n",
      "6       Copiers  149528.0300\n",
      "4     Bookcases  114879.9963\n",
      "1    Appliances  107532.1610\n"
     ]
    }
   ],
   "source": [
    "print(\"Top Selling Products:\")\n",
    "print(top_selling_products.head(10)) "
   ]
  },
  {
   "cell_type": "code",
   "execution_count": 64,
   "id": "426077ef-e58a-4ade-8c77-f84570693c85",
   "metadata": {},
   "outputs": [
    {
     "data": {
      "image/png": "[encoded data removed]",
      "text/plain": [
       "<Figure size 432x288 with 1 Axes>"
      ]
     },
     "metadata": {
      "needs_background": "light"
     },
     "output_type": "display_data"
    }
   ],
   "source": [
    "# plotting horizontal bar graph\n",
    "top_selling_products=top_selling_products.sort_values(by='Sales',ascending=True)\n",
    "plt.barh(top_selling_products['Sub-Category'],top_selling_products['Sales'])\n",
    "# labels\n",
    "plt.title('Top product Sub-Categories based on Sales')\n",
    "plt.xlabel('Product Sub-Categories')\n",
    "plt.ylabel('Total Sales')\n",
    "plt.show()"
   ]
  },
  {
   "cell_type": "markdown",
   "id": "9893c852-9146-4b33-87c6-49fdc6bde948",
   "metadata": {},
   "source": [
    "### Time series Analysis"
   ]
  },
  {
   "cell_type": "markdown",
   "id": "5b60d6d4-6bdb-4ad4-bd3a-93ba5b795c52",
   "metadata": {},
   "source": [
    "### To examin the Sales trend over different time periods the dataset does not content the data like Date,Time,Month,year.\n",
    "### to examin sales trend over different time period the data of order date or year,month is required."
   ]
  },
  {
   "cell_type": "code",
   "execution_count": 65,
   "id": "a16291a6-4571-4b78-a4fe-b85ff8e4ce5d",
   "metadata": {},
   "outputs": [],
   "source": [
    "region_sales = df.groupby('Region')['Sales'].sum().reset_index()"
   ]
  },
  {
   "cell_type": "code",
   "execution_count": 66,
   "id": "daf81782-ef9a-4141-abdc-5899ff324d3d",
   "metadata": {},
   "outputs": [],
   "source": [
    "region_sales = region_sales.sort_values(by='Sales', ascending=False)"
   ]
  },
  {
   "cell_type": "code",
   "execution_count": 67,
   "id": "dba9d82b-2566-4db3-82ff-95dcccae043c",
   "metadata": {},
   "outputs": [
    {
     "name": "stdout",
     "output_type": "stream",
     "text": [
      "\n",
      "Sales Distribution by Region:\n",
      "    Region        Sales\n",
      "3     West  725457.8245\n",
      "1     East  678781.2400\n",
      "0  Central  501239.8908\n",
      "2    South  391721.9050\n"
     ]
    }
   ],
   "source": [
    "print(\"\\nSales Distribution by Region:\")\n",
    "print(region_sales)"
   ]
  },
  {
   "cell_type": "code",
   "execution_count": 68,
   "id": "fe61b80f-d65e-4bf6-8c52-63f1c6309201",
   "metadata": {},
   "outputs": [
    {
     "name": "stderr",
     "output_type": "stream",
     "text": [
      "/tmp/ipykernel_75/4214245630.py:1: FutureWarning: The default value of numeric_only in DataFrame.corr is deprecated. In a future version, it will default to False. Select only valid columns or specify the value of numeric_only to silence this warning.\n",
      "  correlation_matrix = df.corr()\n"
     ]
    }
   ],
   "source": [
    "correlation_matrix = df.corr()"
   ]
  },
  {
   "cell_type": "code",
   "execution_count": 69,
   "id": "60f518e5-8d0b-437a-bb06-93192a0290be",
   "metadata": {},
   "outputs": [
    {
     "data": {
      "image/png": "[encoded data removed]",
      "text/plain": [
       "<Figure size 720x576 with 2 Axes>"
      ]
     },
     "metadata": {
      "needs_background": "light"
     },
     "output_type": "display_data"
    }
   ],
   "source": [
    "plt.figure(figsize=(10, 8))\n",
    "sns.heatmap(correlation_matrix, annot=True, cmap='coolwarm', fmt=\".2f\")\n",
    "plt.title('Correlation Heatmap')\n",
    "plt.show()"
   ]
  },
  {
   "cell_type": "markdown",
   "id": "f12134a3-7ee8-4f42-9adc-e31bf3c91782",
   "metadata": {},
   "source": [
    "### Correlation between profit and discount is in negative and correlation between profit and sales is postive "
   ]
  },
  {
   "cell_type": "markdown",
   "id": "c31bf310-3d22-40de-abce-130d809d4a05",
   "metadata": {},
   "source": [
    "### Conclusion"
   ]
  },
  {
   "cell_type": "markdown",
   "id": "c15dd3e0-1012-4cd3-947f-a35ee46f27e5",
   "metadata": {},
   "source": [
    "### profit in south and central region is less\n",
    "### Profit in east and west region is better than south and central\n",
    "### highest profit is earned in copiers while selling price of chairs and phones are extremely high compared to other product.\n",
    "### people dont prefer to buy tables and bookcases from superstore hence these departments are in loss\n",
    "### The store has wide variety of office supplies especialy in binders and paper.\n",
    "### Negative correlation between and profit and discount\n",
    "### Total sum of profit in sale of table is negative.\n",
    "### profit is more in sale of copiers.\n",
    "### No or very less profit in supplies.\n",
    "### Technology segment is more profitable."
   ]
  },
  {
   "cell_type": "markdown",
   "id": "d15b2f1e-fde3-4049-aa5e-5f5d86ad2fbc",
   "metadata": {},
   "source": [
    "### Analyzed customer segments based on purchasing behavior\n",
    "### Identified high-value customers, frequent customers, and other segments to marketing strategies and customer experiences"
   ]
  },
  {
   "cell_type": "markdown",
   "id": "6f784ecd-a68c-4fa9-8b3e-fa02e7ada395",
   "metadata": {},
   "source": [
    "### Trend Analysis (without Time Data):\n",
    "### Conducted trend analysis based on aggregated data or other available features, despite the absence of explicit date-related information."
   ]
  },
  {
   "cell_type": "markdown",
   "id": "c7046d27-1c08-4476-ad62-df55273edec0",
   "metadata": {},
   "source": [
    "### Recommendations For Improving Sales"
   ]
  },
  {
   "cell_type": "markdown",
   "id": "25948e50-f715-430f-8fd5-ca73a11ec3ed",
   "metadata": {},
   "source": [
    "### the correlation between profit and discount is negative Discounts can attract customers and lead to higher revenue by encouraging more purchases.\n",
    "### Offering discounts lowers the overall revenue per sale, which can decrease profit margins.\n",
    "### If not strategically planned, discounts may impact sales effectivenes\n"
   ]
  },
  {
   "cell_type": "markdown",
   "id": "3bf7b1a4-bed7-43fd-859a-1bab2f57e5d8",
   "metadata": {},
   "source": [
    "### Product Performance: The sales of phones and chairs are highest it is frequently buyed products store has to manage there stocks to avoid shortage of quantity."
   ]
  },
  {
   "cell_type": "markdown",
   "id": "af56ef7f-7b54-45c3-9d26-b5184fe087a2",
   "metadata": {},
   "source": [
    "### The sales of envlopes ,fasterners and art products are very less store has focus on this to increase sales by giving attractive discounts or schemes to the customers"
   ]
  },
  {
   "cell_type": "markdown",
   "id": "0d7beff2-f049-49ba-91fc-c0490a3f7977",
   "metadata": {},
   "source": [
    "### The sales in west and east region is very high  Keep track of  inventory levels to avoid stockouts or overstock situations. Use inventory management tools to ensure you have the right products available at the right time"
   ]
  },
  {
   "cell_type": "markdown",
   "id": "ed8482cb-f4e8-4bed-8594-cf05b67c09da",
   "metadata": {},
   "source": [
    "###  Repeat customers tend to spend more money with a business over time. Their loyalty translates into higher revenue for the company."
   ]
  },
  {
   "cell_type": "markdown",
   "id": "ab277e0a-0704-4862-91a4-24bd8f847cfd",
   "metadata": {},
   "source": [
    "###  To increase sales into south and central region store has to conduct the Customer Loyalty Programs: These programs encourage frequent customer  continue doing business by offering exclusive rewards such as discounts, seasonal coupons,"
   ]
  },
  {
   "cell_type": "markdown",
   "id": "095c880c-0a95-4b88-87c5-a23e013a1b0a",
   "metadata": {},
   "source": [
    "### office suplies has less sales to increase there sales store has to Competitive Pricing and Promotions Offer attractive prices to buyers.Provide promotions that incentivize purchases, encouraging repeat business."
   ]
  },
  {
   "cell_type": "code",
   "execution_count": null,
   "id": "1ce2b6a8-2ce8-40c5-b33c-74d6abb6b3cc",
   "metadata": {},
   "outputs": [],
   "source": []
  }
 ],
 "metadata": {
  "kernelspec": {
   "display_name": "Python 3 [3.10]",
   "language": "python",
   "name": "python3"
  },
  "language_info": {
   "codemirror_mode": {
    "name": "ipython",
    "version": 3
   },
   "file_extension": ".py",
   "mimetype": "text/x-python",
   "name": "python",
   "nbconvert_exporter": "python",
   "pygments_lexer": "ipython3",
   "version": "3.10.2"
  }
 },
 "nbformat": 4,
 "nbformat_minor": 5
}
